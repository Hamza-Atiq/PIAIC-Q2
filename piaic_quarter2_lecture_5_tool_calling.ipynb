{
  "nbformat": 4,
  "nbformat_minor": 0,
  "metadata": {
    "colab": {
      "provenance": [],
      "authorship_tag": "ABX9TyNKZCpqjPCPWNsXmd3RFAsZ",
      "include_colab_link": true
    },
    "kernelspec": {
      "name": "python3",
      "display_name": "Python 3"
    },
    "language_info": {
      "name": "python"
    }
  },
  "cells": [
    {
      "cell_type": "markdown",
      "metadata": {
        "id": "view-in-github",
        "colab_type": "text"
      },
      "source": [
        "<a href=\"https://colab.research.google.com/github/Hamza-Atiq/PIAIC-Q2/blob/main/piaic_quarter2_lecture_5_tool_calling.ipynb\" target=\"_parent\"><img src=\"https://colab.research.google.com/assets/colab-badge.svg\" alt=\"Open In Colab\"/></a>"
      ]
    },
    {
      "cell_type": "code",
      "execution_count": null,
      "metadata": {
        "id": "wKkC_xI008Sx",
        "colab": {
          "base_uri": "https://localhost:8080/"
        },
        "outputId": "728490a7-e024-4da5-8b6b-ec74ecbef99b"
      },
      "outputs": [
        {
          "output_type": "stream",
          "name": "stdout",
          "text": [
            "\u001b[?25l   \u001b[90m━━━━━━━━━━━━━━━━━━━━━━━━━━━━━━━━━━━━━━━━\u001b[0m \u001b[32m0.0/2.5 MB\u001b[0m \u001b[31m?\u001b[0m eta \u001b[36m-:--:--\u001b[0m\r\u001b[2K   \u001b[91m━━━━━━━━━━━━━━━━━━━━━━━━━━━━━━━━━━━━━━━\u001b[0m\u001b[91m╸\u001b[0m \u001b[32m2.5/2.5 MB\u001b[0m \u001b[31m175.7 MB/s\u001b[0m eta \u001b[36m0:00:01\u001b[0m\r\u001b[2K   \u001b[90m━━━━━━━━━━━━━━━━━━━━━━━━━━━━━━━━━━━━━━━━\u001b[0m \u001b[32m2.5/2.5 MB\u001b[0m \u001b[31m66.8 MB/s\u001b[0m eta \u001b[36m0:00:00\u001b[0m\n",
            "\u001b[?25h\u001b[?25l   \u001b[90m━━━━━━━━━━━━━━━━━━━━━━━━━━━━━━━━━━━━━━━━\u001b[0m \u001b[32m0.0/41.5 kB\u001b[0m \u001b[31m?\u001b[0m eta \u001b[36m-:--:--\u001b[0m\r\u001b[2K   \u001b[90m━━━━━━━━━━━━━━━━━━━━━━━━━━━━━━━━━━━━━━━━\u001b[0m \u001b[32m41.5/41.5 kB\u001b[0m \u001b[31m2.3 MB/s\u001b[0m eta \u001b[36m0:00:00\u001b[0m\n",
            "\u001b[?25h\u001b[?25l   \u001b[90m━━━━━━━━━━━━━━━━━━━━━━━━━━━━━━━━━━━━━━━━\u001b[0m \u001b[32m0.0/49.5 kB\u001b[0m \u001b[31m?\u001b[0m eta \u001b[36m-:--:--\u001b[0m\r\u001b[2K   \u001b[90m━━━━━━━━━━━━━━━━━━━━━━━━━━━━━━━━━━━━━━━━\u001b[0m \u001b[32m49.5/49.5 kB\u001b[0m \u001b[31m3.2 MB/s\u001b[0m eta \u001b[36m0:00:00\u001b[0m\n",
            "\u001b[?25h"
          ]
        }
      ],
      "source": [
        "! pip install -qU langchain langchain-community langchain-google-genai"
      ]
    },
    {
      "cell_type": "code",
      "source": [
        "import os\n",
        "from google.colab import userdata\n",
        "os.environ['GOOGLE_API_KEY'] = userdata.get('gemini')"
      ],
      "metadata": {
        "id": "o4FI0Vg71aJ0"
      },
      "execution_count": null,
      "outputs": []
    },
    {
      "cell_type": "code",
      "source": [
        "from langchain_google_genai import ChatGoogleGenerativeAI\n",
        "from langchain_core.tools import tool\n",
        "from langchain.tools import Tool\n",
        "from langchain.agents import initialize_agent, AgentType\n",
        "from langchain.agents import AgentExecutor\n",
        "\n",
        "llm = ChatGoogleGenerativeAI(model = 'gemini-2.0-flash-exp' , verbose= True)"
      ],
      "metadata": {
        "id": "ietrpL921n_C"
      },
      "execution_count": null,
      "outputs": []
    },
    {
      "cell_type": "code",
      "source": [
        "@tool\n",
        "def multiply(a : int , b : int) ->int:\n",
        "    \"\"\"Multiply a and b.\n",
        "\n",
        "    Args:\n",
        "        a: first int\n",
        "        b: second int\n",
        "    \"\"\"\n",
        "    return a*b\n",
        "\n",
        "llm_with_tools = llm.bind_tools([multiply])"
      ],
      "metadata": {
        "id": "2sF3lwY9B5y_"
      },
      "execution_count": null,
      "outputs": []
    },
    {
      "cell_type": "code",
      "source": [
        "result = llm_with_tools.invoke(\"my name is Hamza Atiq\")"
      ],
      "metadata": {
        "id": "4CZQyZGwGF7w"
      },
      "execution_count": null,
      "outputs": []
    },
    {
      "cell_type": "code",
      "source": [
        "result"
      ],
      "metadata": {
        "colab": {
          "base_uri": "https://localhost:8080/"
        },
        "id": "HDJ8bWtJGSSn",
        "outputId": "913a87bc-bfc5-44ca-f2d6-c6ca7b878e87"
      },
      "execution_count": null,
      "outputs": [
        {
          "output_type": "execute_result",
          "data": {
            "text/plain": [
              "AIMessage(content=\"Hello Hamza Atiq, it's nice to meet you!\", additional_kwargs={}, response_metadata={'prompt_feedback': {'block_reason': 0, 'safety_ratings': []}, 'finish_reason': 'STOP', 'safety_ratings': [{'category': 'HARM_CATEGORY_HATE_SPEECH', 'probability': 'NEGLIGIBLE', 'blocked': False}, {'category': 'HARM_CATEGORY_DANGEROUS_CONTENT', 'probability': 'NEGLIGIBLE', 'blocked': False}, {'category': 'HARM_CATEGORY_HARASSMENT', 'probability': 'NEGLIGIBLE', 'blocked': False}, {'category': 'HARM_CATEGORY_SEXUALLY_EXPLICIT', 'probability': 'NEGLIGIBLE', 'blocked': False}]}, id='run-81638afb-719c-44b2-ab93-bd477c5dbbee-0', usage_metadata={'input_tokens': 69, 'output_tokens': 14, 'total_tokens': 83, 'input_token_details': {'cache_read': 0}})"
            ]
          },
          "metadata": {},
          "execution_count": 6
        }
      ]
    },
    {
      "cell_type": "code",
      "source": [
        "result1 = llm_with_tools.invoke(\"what is 2*3\")"
      ],
      "metadata": {
        "id": "2Odq0dGIGktT"
      },
      "execution_count": null,
      "outputs": []
    },
    {
      "cell_type": "code",
      "source": [
        "result1"
      ],
      "metadata": {
        "colab": {
          "base_uri": "https://localhost:8080/"
        },
        "id": "HXoTayjfGt4h",
        "outputId": "dc6a82e8-764a-4ee1-d569-74afd9e7aa7c"
      },
      "execution_count": null,
      "outputs": [
        {
          "output_type": "execute_result",
          "data": {
            "text/plain": [
              "AIMessage(content='', additional_kwargs={'function_call': {'name': 'multiply', 'arguments': '{\"a\": 2.0, \"b\": 3.0}'}}, response_metadata={'prompt_feedback': {'block_reason': 0, 'safety_ratings': []}, 'finish_reason': 'STOP', 'safety_ratings': [{'category': 'HARM_CATEGORY_HATE_SPEECH', 'probability': 'NEGLIGIBLE', 'blocked': False}, {'category': 'HARM_CATEGORY_DANGEROUS_CONTENT', 'probability': 'NEGLIGIBLE', 'blocked': False}, {'category': 'HARM_CATEGORY_HARASSMENT', 'probability': 'NEGLIGIBLE', 'blocked': False}, {'category': 'HARM_CATEGORY_SEXUALLY_EXPLICIT', 'probability': 'NEGLIGIBLE', 'blocked': False}]}, id='run-dabfcf43-e219-4847-b50a-eeef46e8fec5-0', tool_calls=[{'name': 'multiply', 'args': {'a': 2.0, 'b': 3.0}, 'id': '3b5bd47a-b666-4767-a2a1-3e12c91f6572', 'type': 'tool_call'}], usage_metadata={'input_tokens': 69, 'output_tokens': 3, 'total_tokens': 72, 'input_token_details': {'cache_read': 0}})"
            ]
          },
          "metadata": {},
          "execution_count": 8
        }
      ]
    },
    {
      "cell_type": "code",
      "source": [
        "print(result1)"
      ],
      "metadata": {
        "colab": {
          "base_uri": "https://localhost:8080/"
        },
        "id": "lf1CYar9Mpch",
        "outputId": "39f8e87b-89ca-4641-ac7e-4c9e2a60728d"
      },
      "execution_count": null,
      "outputs": [
        {
          "output_type": "stream",
          "name": "stdout",
          "text": [
            "content='' additional_kwargs={'function_call': {'name': 'multiply', 'arguments': '{\"a\": 2.0, \"b\": 3.0}'}} response_metadata={'prompt_feedback': {'block_reason': 0, 'safety_ratings': []}, 'finish_reason': 'STOP', 'safety_ratings': [{'category': 'HARM_CATEGORY_HATE_SPEECH', 'probability': 'NEGLIGIBLE', 'blocked': False}, {'category': 'HARM_CATEGORY_DANGEROUS_CONTENT', 'probability': 'NEGLIGIBLE', 'blocked': False}, {'category': 'HARM_CATEGORY_HARASSMENT', 'probability': 'NEGLIGIBLE', 'blocked': False}, {'category': 'HARM_CATEGORY_SEXUALLY_EXPLICIT', 'probability': 'NEGLIGIBLE', 'blocked': False}]} id='run-dabfcf43-e219-4847-b50a-eeef46e8fec5-0' tool_calls=[{'name': 'multiply', 'args': {'a': 2.0, 'b': 3.0}, 'id': '3b5bd47a-b666-4767-a2a1-3e12c91f6572', 'type': 'tool_call'}] usage_metadata={'input_tokens': 69, 'output_tokens': 3, 'total_tokens': 72, 'input_token_details': {'cache_read': 0}}\n"
          ]
        }
      ]
    },
    {
      "cell_type": "code",
      "source": [
        "def add_numbers(num1, num2):\n",
        "    return num1 + num2\n",
        "\n",
        "def subtract_numbers(num1, num2):\n",
        "    return num1 - num2\n",
        "\n",
        "def multiply_numbers(num1, num2):\n",
        "    return num1 * num2\n",
        "\n",
        "def divide_numbers(num1, num2):\n",
        "    if num2 == 0:\n",
        "        return \"Cannot divide by zero\"\n",
        "    return num1 / num2\n",
        "\n",
        "def square_number(num):\n",
        "    return num ** 2\n",
        "\n",
        "def cube_number(num):\n",
        "    return num ** 3\n",
        "\n",
        "def square_root(num):\n",
        "    if num < 0:\n",
        "        return \"Cannot calculate square root of a negative number\"\n",
        "    return num ** 0.5\n",
        "\n",
        "def factorial(num):\n",
        "    if num < 0:\n",
        "        return \"Factorial is not defined for negative numbers\"\n",
        "    elif num == 0:\n",
        "        return 1\n",
        "    else:\n",
        "        result = 1\n",
        "        for i in range(1, num + 1):\n",
        "            result *= i\n",
        "        return result\n"
      ],
      "metadata": {
        "id": "MEVpPamkHAND"
      },
      "execution_count": null,
      "outputs": []
    },
    {
      "cell_type": "code",
      "source": [
        "addition_tool = Tool(\n",
        "    name = \"add_numbers\",\n",
        "    func = lambda x: f\"The result is: {add_numbers(*map(float , x.split()))}\",\n",
        "    description = \"Adds two numbers. Input should be two integers seperated with space\"\n",
        ")\n",
        "\n",
        "subtraction_tool = Tool(\n",
        "    name = \"subtract_numbers\",\n",
        "    func = lambda x: f\"The result is: {subtract_numbers(*map(float , x.split()))}\",\n",
        "    description = \"Subtracts two numbers. Input should be two float values if applicable and seperated with space. result will be two decimal point\"\n",
        ")\n",
        "\n",
        "multiplication_tool = Tool(\n",
        "    name = \"multiply_numbers\",\n",
        "    func = lambda x: f\"The result is: {multiply_numbers(*map(float , x.split()))}\",\n",
        "    description = \"Multiplies two numbers. Input should be two integers seperated with space\"\n",
        ")\n",
        "\n",
        "division_tool = Tool(\n",
        "    name = \"divide_numbers\",\n",
        "    func = lambda x: f\"The result is: {divide_numbers(*map(float , x.split()))}\",\n",
        "    description = \"Divides two numbers. Input should be two integers seperated with space\"\n",
        ")\n",
        "\n",
        "square_tool = Tool(\n",
        "    name = \"square_number\",\n",
        "    func = lambda x: f\"The result is: {square_number(float(x))}\",\n",
        "    description = \"Squares a number. Input should be an integer\"\n",
        ")\n",
        "\n",
        "cube_tool = Tool(\n",
        "    name = \"cube_number\",\n",
        "    func = lambda x: f\"The result is: {cube_number(float(x))}\",\n",
        "    description = \"Cubes a number. Input should be an integer\"\n",
        ")\n",
        "\n",
        "square_root_tool = Tool(\n",
        "    name = \"square_root\",\n",
        "    func = lambda x: f\"The result is: {square_root(float(x))}\",\n",
        "    description = \"Calculates the square root of a number. Input should be an integer\"\n",
        ")\n",
        "\n",
        "factorial_tool = Tool(\n",
        "    name = \"factorial\",\n",
        "    func = lambda x: f\"The result is: {factorial(int(x))}\",\n",
        "    description = \"Calculates the factorial of a number. Input should be an integer\"\n",
        ")\n",
        "\n"
      ],
      "metadata": {
        "id": "mOM9b-gdHgOI"
      },
      "execution_count": null,
      "outputs": []
    },
    {
      "cell_type": "code",
      "source": [
        "tools = [addition_tool , subtraction_tool,\n",
        "         multiplication_tool , division_tool,\n",
        "         square_tool , cube_tool,\n",
        "         square_root_tool , factorial_tool]\n",
        "\n",
        "agent = initialize_agent(\n",
        "    tools = tools,\n",
        "    llm=llm,\n",
        "    agent=AgentType.ZERO_SHOT_REACT_DESCRIPTION,\n",
        "    verbose=True\n",
        ")"
      ],
      "metadata": {
        "id": "bS5beuPwIwSS",
        "colab": {
          "base_uri": "https://localhost:8080/"
        },
        "outputId": "5154a918-622e-4dbc-8ccd-3724604a2297"
      },
      "execution_count": null,
      "outputs": [
        {
          "output_type": "stream",
          "name": "stderr",
          "text": [
            "<ipython-input-12-c615661933c5>:6: LangChainDeprecationWarning: LangChain agents will continue to be supported, but it is recommended for new use cases to be built with LangGraph. LangGraph offers a more flexible and full-featured framework for building agents, including support for tool-calling, persistence of state, and human-in-the-loop workflows. For details, refer to the `LangGraph documentation <https://langchain-ai.github.io/langgraph/>`_ as well as guides for `Migrating from AgentExecutor <https://python.langchain.com/docs/how_to/migrate_agent/>`_ and LangGraph's `Pre-built ReAct agent <https://langchain-ai.github.io/langgraph/how-tos/create-react-agent/>`_.\n",
            "  agent = initialize_agent(\n"
          ]
        }
      ]
    },
    {
      "cell_type": "code",
      "source": [
        "response1 = agent.run(\"Add 2 and 4\" )\n",
        "print(response1)\n",
        "\n"
      ],
      "metadata": {
        "colab": {
          "base_uri": "https://localhost:8080/"
        },
        "id": "0cKzw4IAJbyB",
        "outputId": "85be969d-c5c8-4eae-d21e-8166d355d450"
      },
      "execution_count": null,
      "outputs": [
        {
          "output_type": "stream",
          "name": "stdout",
          "text": [
            "\n",
            "\n",
            "\u001b[1m> Entering new AgentExecutor chain...\u001b[0m\n"
          ]
        },
        {
          "output_type": "stream",
          "name": "stderr",
          "text": [
            "<ipython-input-13-d82915abd626>:1: LangChainDeprecationWarning: The method `Chain.run` was deprecated in langchain 0.1.0 and will be removed in 1.0. Use :meth:`~invoke` instead.\n",
            "  response1 = agent.run(\"Add 2 and 4\" )\n"
          ]
        },
        {
          "output_type": "stream",
          "name": "stdout",
          "text": [
            "\u001b[32;1m\u001b[1;3mI need to add two numbers.\n",
            "Action: add_numbers\n",
            "Action Input: 2 4\u001b[0m\n",
            "Observation: \u001b[36;1m\u001b[1;3mThe result is: 6.0\u001b[0m\n",
            "Thought:\u001b[32;1m\u001b[1;3mI now know the final answer\n",
            "Final Answer: 6.0\u001b[0m\n",
            "\n",
            "\u001b[1m> Finished chain.\u001b[0m\n",
            "6.0\n"
          ]
        }
      ]
    },
    {
      "cell_type": "code",
      "source": [
        "response2 = agent.run(\"what is 10-6.9\")\n",
        "print(response2)"
      ],
      "metadata": {
        "colab": {
          "base_uri": "https://localhost:8080/"
        },
        "id": "3adUXB78KdqV",
        "outputId": "569716d6-05b2-455b-c820-4f4fb019a7a6"
      },
      "execution_count": null,
      "outputs": [
        {
          "output_type": "stream",
          "name": "stdout",
          "text": [
            "\n",
            "\n",
            "\u001b[1m> Entering new AgentExecutor chain...\u001b[0m\n",
            "\u001b[32;1m\u001b[1;3mI need to subtract two numbers.\n",
            "Action: subtract_numbers\n",
            "Action Input: 10 6.9\u001b[0m\n",
            "Observation: \u001b[33;1m\u001b[1;3mThe result is: 3.0999999999999996\u001b[0m\n",
            "Thought:\u001b[32;1m\u001b[1;3mI now know the final answer\n",
            "Final Answer: 3.10\u001b[0m\n",
            "\n",
            "\u001b[1m> Finished chain.\u001b[0m\n",
            "3.10\n"
          ]
        }
      ]
    },
    {
      "cell_type": "code",
      "source": [
        "response3 = agent.run(\"what is 66*777\")\n",
        "print(response3)"
      ],
      "metadata": {
        "colab": {
          "base_uri": "https://localhost:8080/"
        },
        "id": "zMzfJFzNK7pQ",
        "outputId": "33260aaf-383f-412c-a875-a750fb771c9e"
      },
      "execution_count": null,
      "outputs": [
        {
          "output_type": "stream",
          "name": "stdout",
          "text": [
            "\n",
            "\n",
            "\u001b[1m> Entering new AgentExecutor chain...\u001b[0m\n",
            "\u001b[32;1m\u001b[1;3mI need to multiply 66 and 777.\n",
            "Action: multiply_numbers\n",
            "Action Input: 66 777\u001b[0m\n",
            "Observation: \u001b[38;5;200m\u001b[1;3mThe result is: 51282.0\u001b[0m\n",
            "Thought:\u001b[32;1m\u001b[1;3mI now know the final answer\n",
            "Final Answer: 51282\u001b[0m\n",
            "\n",
            "\u001b[1m> Finished chain.\u001b[0m\n",
            "51282\n"
          ]
        }
      ]
    },
    {
      "cell_type": "code",
      "source": [
        "response4 = agent.run(\"what is 567/9\")\n",
        "print(response4)"
      ],
      "metadata": {
        "colab": {
          "base_uri": "https://localhost:8080/"
        },
        "id": "wfrlw6vGLBWb",
        "outputId": "5faae10c-8c30-4a11-db33-c236b6d92c06"
      },
      "execution_count": null,
      "outputs": [
        {
          "output_type": "stream",
          "name": "stdout",
          "text": [
            "\n",
            "\n",
            "\u001b[1m> Entering new AgentExecutor chain...\u001b[0m\n",
            "\u001b[32;1m\u001b[1;3mI need to divide 567 by 9.\n",
            "Action: divide_numbers\n",
            "Action Input: 567 9\u001b[0m\n",
            "Observation: \u001b[36;1m\u001b[1;3mThe result is: 63.0\u001b[0m\n",
            "Thought:\u001b[32;1m\u001b[1;3mI now know the final answer\n",
            "Final Answer: 63.0\u001b[0m\n",
            "\n",
            "\u001b[1m> Finished chain.\u001b[0m\n",
            "63.0\n"
          ]
        }
      ]
    },
    {
      "cell_type": "code",
      "source": [
        "response5 = agent.run(\"what is square of 4 is?\")\n",
        "print(response5)"
      ],
      "metadata": {
        "colab": {
          "base_uri": "https://localhost:8080/"
        },
        "id": "jg2nq5nyLF86",
        "outputId": "1b63de96-299d-4823-a82e-cd71f77d3e8c"
      },
      "execution_count": null,
      "outputs": [
        {
          "output_type": "stream",
          "name": "stdout",
          "text": [
            "\n",
            "\n",
            "\u001b[1m> Entering new AgentExecutor chain...\u001b[0m\n",
            "\u001b[32;1m\u001b[1;3mI need to calculate the square of 4.\n",
            "Action: square_number\n",
            "Action Input: 4\u001b[0m\n",
            "Observation: \u001b[33;1m\u001b[1;3mThe result is: 16.0\u001b[0m\n",
            "Thought:\u001b[32;1m\u001b[1;3mI now know the final answer\n",
            "Final Answer: 16\u001b[0m\n",
            "\n",
            "\u001b[1m> Finished chain.\u001b[0m\n",
            "16\n"
          ]
        }
      ]
    },
    {
      "cell_type": "code",
      "source": [
        "response6 = agent.run(\"What is cube of 3 is?\")\n",
        "print(response6)"
      ],
      "metadata": {
        "colab": {
          "base_uri": "https://localhost:8080/"
        },
        "id": "OknV6T-tLVnX",
        "outputId": "c5911ca5-8f80-4df6-e1c5-fbbee8b4731f"
      },
      "execution_count": null,
      "outputs": [
        {
          "output_type": "stream",
          "name": "stdout",
          "text": [
            "\n",
            "\n",
            "\u001b[1m> Entering new AgentExecutor chain...\u001b[0m\n",
            "\u001b[32;1m\u001b[1;3mI need to calculate the cube of 3.\n",
            "Action: cube_number\n",
            "Action Input: 3\u001b[0m\n",
            "Observation: \u001b[38;5;200m\u001b[1;3mThe result is: 27.0\u001b[0m\n",
            "Thought:\u001b[32;1m\u001b[1;3mI now know the final answer\n",
            "Final Answer: 27.0\u001b[0m\n",
            "\n",
            "\u001b[1m> Finished chain.\u001b[0m\n",
            "27.0\n"
          ]
        }
      ]
    },
    {
      "cell_type": "code",
      "source": [
        "response7 = agent.run(\"what is square root of 25?\")\n",
        "print(response7)"
      ],
      "metadata": {
        "colab": {
          "base_uri": "https://localhost:8080/"
        },
        "id": "GY8nbraaLccu",
        "outputId": "1028345d-43cb-4b8c-857d-c6e55f7351c5"
      },
      "execution_count": null,
      "outputs": [
        {
          "output_type": "stream",
          "name": "stdout",
          "text": [
            "\n",
            "\n",
            "\u001b[1m> Entering new AgentExecutor chain...\u001b[0m\n",
            "\u001b[32;1m\u001b[1;3mI need to calculate the square root of 25.\n",
            "Action: square_root\n",
            "Action Input: 25\u001b[0m\n",
            "Observation: \u001b[36;1m\u001b[1;3mThe result is: 5.0\u001b[0m\n",
            "Thought:\u001b[32;1m\u001b[1;3mI now know the final answer\n",
            "Final Answer: 5.0\u001b[0m\n",
            "\n",
            "\u001b[1m> Finished chain.\u001b[0m\n",
            "5.0\n"
          ]
        }
      ]
    },
    {
      "cell_type": "code",
      "source": [
        "response8 = agent.run(\"what is factorial of 5?\")\n",
        "print(response8)"
      ],
      "metadata": {
        "colab": {
          "base_uri": "https://localhost:8080/"
        },
        "id": "mEdyUo8KLhoE",
        "outputId": "c989b56d-b747-4732-a3bc-a6847deff88f"
      },
      "execution_count": null,
      "outputs": [
        {
          "output_type": "stream",
          "name": "stdout",
          "text": [
            "\n",
            "\n",
            "\u001b[1m> Entering new AgentExecutor chain...\u001b[0m\n"
          ]
        },
        {
          "output_type": "stream",
          "name": "stderr",
          "text": [
            "WARNING:langchain_google_genai.chat_models:Retrying langchain_google_genai.chat_models._chat_with_retry.<locals>._chat_with_retry in 2.0 seconds as it raised ResourceExhausted: 429 Resource has been exhausted (e.g. check quota)..\n"
          ]
        },
        {
          "output_type": "stream",
          "name": "stdout",
          "text": [
            "\u001b[32;1m\u001b[1;3mI need to calculate the factorial of 5.\n",
            "Action: factorial\n",
            "Action Input: 5\u001b[0m\n",
            "Observation: \u001b[33;1m\u001b[1;3mThe result is: 120\u001b[0m\n",
            "Thought:\u001b[32;1m\u001b[1;3mI now know the final answer\n",
            "Final Answer: 120\u001b[0m\n",
            "\n",
            "\u001b[1m> Finished chain.\u001b[0m\n",
            "120\n"
          ]
        }
      ]
    },
    {
      "cell_type": "code",
      "source": [
        "class Calculator:\n",
        "    def calculate(self, expression: str) -> str:\n",
        "        try:\n",
        "            # Use Python's eval to compute the result safely\n",
        "            result = eval(expression, {\"__builtins__\": None}, {})\n",
        "            return str(result)\n",
        "        except Exception as e:\n",
        "            return f\"Error: {e}\""
      ],
      "metadata": {
        "id": "iMKWj_422Tnm"
      },
      "execution_count": null,
      "outputs": []
    },
    {
      "cell_type": "code",
      "source": [
        "from langchain_core.tools import tool\n",
        "\n",
        "@tool\n",
        "def calculator(expression: str) -> str:\n",
        "    \"\"\"\n",
        "    Perform arithmetic calculations.\n",
        "    Input: A mathematical expression as a string (e.g., \"2 + 2\").\n",
        "    Output: Result of the calculation as a string.\n",
        "    \"\"\"\n",
        "    calc = Calculator()\n",
        "    return calc.calculate(expression)"
      ],
      "metadata": {
        "id": "jPp3W9JL12lq"
      },
      "execution_count": null,
      "outputs": []
    },
    {
      "cell_type": "code",
      "source": [
        "from langchain.tools import Tool\n",
        "\n"
      ],
      "metadata": {
        "id": "T0zMYpqn2uKa"
      },
      "execution_count": null,
      "outputs": []
    },
    {
      "cell_type": "markdown",
      "source": [
        "# Task weather API key"
      ],
      "metadata": {
        "id": "s_CyFgR6sH0g"
      }
    },
    {
      "cell_type": "code",
      "source": [
        "! pip install -qU requests"
      ],
      "metadata": {
        "id": "pwmCom-EplcM"
      },
      "execution_count": null,
      "outputs": []
    },
    {
      "cell_type": "code",
      "source": [
        "import requests\n",
        "OPENWEATHER_API_KEY = userdata.get('weatherapikey')"
      ],
      "metadata": {
        "id": "7B-dL7jJsUxS"
      },
      "execution_count": null,
      "outputs": []
    },
    {
      "cell_type": "code",
      "source": [
        "def fetch_weather(city_name):\n",
        "\n",
        "      if not OPENWEATHER_API_KEY:\n",
        "        return \"Error: Missing OpenWeatherMap API key.\"\n",
        "\n",
        "      url = 'https://api.openweathermap.org/data/2.5/weather'\n",
        "\n",
        "      params = {\n",
        "          'q' : city_name,\n",
        "          'appid' : OPENWEATHER_API_KEY,\n",
        "          'units' : 'metric'\n",
        "      }\n",
        "\n",
        "      try:\n",
        "        response = requests.get(url , params = params)\n",
        "        response.raise_for_status()\n",
        "        weather_data = response.json()\n",
        "\n",
        "        temperature = weather_data['main']['temp']\n",
        "        description = weather_data['weather'][0]['description']\n",
        "        return f\"The temperature in {city_name} is {temperature}°C and the weather is {description}.\"\n",
        "\n",
        "      except Exception as e:\n",
        "        return f\"An error occurred while fetching weather data: {e}\"\n"
      ],
      "metadata": {
        "id": "EzbEWcHptI_y"
      },
      "execution_count": null,
      "outputs": []
    },
    {
      "cell_type": "code",
      "source": [
        "weather_tool = Tool(\n",
        "    name = \"fetch_weather\",\n",
        "    func = fetch_weather,\n",
        "    description = \"Fetch the weather information for a given city using OpenWeatherMap. Input should be a city name.\"\n",
        ")"
      ],
      "metadata": {
        "id": "9lp3L33qucgh"
      },
      "execution_count": null,
      "outputs": []
    },
    {
      "cell_type": "code",
      "source": [
        "def main():\n",
        "\n",
        "    tools = [weather_tool ]\n",
        "    agent = initialize_agent(\n",
        "        tools = tools,\n",
        "        llm=llm,\n",
        "        agent=AgentType.ZERO_SHOT_REACT_DESCRIPTION,\n",
        "        verbose=True\n",
        "    )\n",
        "\n",
        "    while True:\n",
        "\n",
        "        user_input = input(\"Please Enter City Name or exit : \")\n",
        "\n",
        "        if user_input.lower().strip() == 'exit':\n",
        "            print(\"Exiting the program.\")\n",
        "            break\n",
        "\n",
        "        response = agent.run(user_input)\n",
        "        print(response)\n",
        "\n"
      ],
      "metadata": {
        "id": "bZfLz_PQusWZ"
      },
      "execution_count": null,
      "outputs": []
    },
    {
      "cell_type": "code",
      "source": [
        "if __name__ == \"__main__\":\n",
        "    main()"
      ],
      "metadata": {
        "colab": {
          "base_uri": "https://localhost:8080/"
        },
        "id": "6288p4V8vUbV",
        "outputId": "19636c28-d834-4a98-d32e-4c6c8f63d540"
      },
      "execution_count": null,
      "outputs": [
        {
          "output_type": "stream",
          "name": "stdout",
          "text": [
            "Please Enter City Name or exit : rawalpindi\n",
            "\n",
            "\n",
            "\u001b[1m> Entering new AgentExecutor chain...\u001b[0m\n",
            "\u001b[32;1m\u001b[1;3mI need to get the weather information for Rawalpindi.\n",
            "Action: fetch_weather\n",
            "Action Input: Rawalpindi\u001b[0m\n",
            "Observation: \u001b[36;1m\u001b[1;3mThe temperature in Rawalpindi is 16.8°C and the weather is overcast clouds.\u001b[0m\n",
            "Thought:\u001b[32;1m\u001b[1;3mI now know the final answer\n",
            "Final Answer: The temperature in Rawalpindi is 16.8°C and the weather is overcast clouds.\u001b[0m\n",
            "\n",
            "\u001b[1m> Finished chain.\u001b[0m\n",
            "The temperature in Rawalpindi is 16.8°C and the weather is overcast clouds.\n",
            "Please Enter City Name or exit : exit\n",
            "Exiting the program.\n"
          ]
        }
      ]
    },
    {
      "cell_type": "code",
      "source": [
        "OPENWEATHER_API_KEY = userdata.get('weatherapikey')\n",
        "\n",
        "def fetch_weather_data(city_name: str) -> dict:\n",
        "    \"\"\"\n",
        "    Fetch current weather data for the specified city using OpenWeatherMap API.\n",
        "    Returns a dictionary with weather info, or raises an exception on error.\n",
        "    \"\"\"\n",
        "    if not OPENWEATHER_API_KEY:\n",
        "        raise ValueError(\"Missing OpenWeatherMap API key. Please set OPENWEATHER_API_KEY.\")\n",
        "\n",
        "    url = \"https://api.openweathermap.org/data/2.5/weather\"\n",
        "    params = {\n",
        "        \"q\": city_name,\n",
        "        \"appid\": OPENWEATHER_API_KEY,\n",
        "        \"units\": \"metric\"  # 'metric' for Celsius, 'imperial' for Fahrenheit\n",
        "    }\n",
        "\n",
        "    response = requests.get(url, params=params)\n",
        "    response.raise_for_status()  # Raises HTTPError for 4xx/5xx\n",
        "    return response.json()\n",
        "\n",
        "def generate_linkedin_post(city_name: str) -> str:\n",
        "    \"\"\"\n",
        "    Fetches weather data for a given city and then formats it into a\n",
        "    LinkedIn-friendly post.\n",
        "    \"\"\"\n",
        "    try:\n",
        "        data = fetch_weather_data(city_name)\n",
        "\n",
        "        # Extract relevant info from the response\n",
        "        temperature = data[\"main\"][\"temp\"]\n",
        "        humidity = data[\"main\"][\"humidity\"]\n",
        "        weather_description = data[\"weather\"][0][\"description\"].capitalize()\n",
        "        feels_like = data[\"main\"][\"feels_like\"]\n",
        "\n",
        "        # You could also get wind speed, cloudiness, etc. if you like:\n",
        "        # wind_speed = data[\"wind\"][\"speed\"]\n",
        "        # cloudiness = data[\"clouds\"][\"all\"]\n",
        "\n",
        "        # Build a LinkedIn post with emojis, hashtags, and your own style\n",
        "        post_text = (\n",
        "            f\"☀️ Weather Update: {city_name} ☀️\\n\\n\"\n",
        "            f\"It's currently **{temperature}°C** and **{weather_description}** \"\n",
        "            f\"(feels like {feels_like}°C). Humidity is at **{humidity}%**.\\n\\n\"\n",
        "            f\"Whether you're in {city_name} or elsewhere, stay prepared! \"\n",
        "            f\"Don't forget to stay hydrated if it's hot, or bundle up if it's chilly.\\n\\n\"\n",
        "            f\"#Weather #LinkedInUpdate #StaySafe #OpenWeather\"\n",
        "        )\n",
        "\n",
        "        return post_text\n",
        "\n",
        "    except requests.exceptions.HTTPError as http_err:\n",
        "        return (f\"Oops! Could not fetch weather data for '{city_name}'. \"\n",
        "                f\"HTTP error occurred: {str(http_err)}.\")\n",
        "    except Exception as e:\n",
        "        return (f\"An error occurred while fetching weather data for '{city_name}': {str(e)}\")\n",
        "\n",
        "def main():\n",
        "    \"\"\"\n",
        "    Simple CLI loop to show how you'd generate a LinkedIn post\n",
        "    for any city the user enters.\n",
        "    \"\"\"\n",
        "    while True:\n",
        "        city_name = input(\"Enter a city name (or 'exit' to quit): \")\n",
        "        if city_name.lower().strip() == \"exit\":\n",
        "            print(\"Exiting the program.\")\n",
        "            break\n",
        "\n",
        "        post_text = generate_linkedin_post(city_name)\n",
        "        print(\"\\n--- LinkedIn Post Preview ---\")\n",
        "        print(post_text)\n",
        "        print(\"----------------------------\\n\")\n",
        "\n",
        "if __name__ == \"__main__\":\n",
        "    main()\n"
      ],
      "metadata": {
        "colab": {
          "base_uri": "https://localhost:8080/"
        },
        "id": "8_-IJEnJ2zTR",
        "outputId": "bb9c26ff-050c-46ed-f004-8379e25f61ea"
      },
      "execution_count": null,
      "outputs": [
        {
          "output_type": "stream",
          "name": "stdout",
          "text": [
            "Enter a city name (or 'exit' to quit): rawalpindi\n",
            "\n",
            "--- LinkedIn Post Preview ---\n",
            "☀️ Weather Update: rawalpindi ☀️\n",
            "\n",
            "It's currently **16.8°C** and **Overcast clouds** (feels like 16.1°C). Humidity is at **60%**.\n",
            "\n",
            "Whether you're in rawalpindi or elsewhere, stay prepared! Don't forget to stay hydrated if it's hot, or bundle up if it's chilly.\n",
            "\n",
            "#Weather #LinkedInUpdate #StaySafe #OpenWeather\n",
            "----------------------------\n",
            "\n",
            "Enter a city name (or 'exit' to quit): exit\n",
            "Exiting the program.\n"
          ]
        }
      ]
    }
  ]
}