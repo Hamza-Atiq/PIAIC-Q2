{
  "nbformat": 4,
  "nbformat_minor": 0,
  "metadata": {
    "colab": {
      "provenance": [],
      "authorship_tag": "ABX9TyOsHbn6OQUvtUqDmT+JHOFz",
      "include_colab_link": true
    },
    "kernelspec": {
      "name": "python3",
      "display_name": "Python 3"
    },
    "language_info": {
      "name": "python"
    }
  },
  "cells": [
    {
      "cell_type": "markdown",
      "metadata": {
        "id": "view-in-github",
        "colab_type": "text"
      },
      "source": [
        "<a href=\"https://colab.research.google.com/github/Hamza-Atiq/PIAIC-Q2/blob/main/piaic_quarter2_lecture4_langchain_rag.ipynb\" target=\"_parent\"><img src=\"https://colab.research.google.com/assets/colab-badge.svg\" alt=\"Open In Colab\"/></a>"
      ]
    },
    {
      "cell_type": "code",
      "execution_count": null,
      "metadata": {
        "id": "InWZO2HswSGu",
        "colab": {
          "base_uri": "https://localhost:8080/"
        },
        "outputId": "91f6bb9b-ec4f-40cf-b709-22ed3baeea9d"
      },
      "outputs": [
        {
          "output_type": "stream",
          "name": "stdout",
          "text": [
            "\u001b[?25l   \u001b[90m━━━━━━━━━━━━━━━━━━━━━━━━━━━━━━━━━━━━━━━━\u001b[0m \u001b[32m0.0/411.6 kB\u001b[0m \u001b[31m?\u001b[0m eta \u001b[36m-:--:--\u001b[0m\r\u001b[2K   \u001b[91m━━━━━━━━━━━━━━━━━━━━━━━━━━━━━━━━━━━━━━━\u001b[0m\u001b[91m╸\u001b[0m \u001b[32m409.6/411.6 kB\u001b[0m \u001b[31m12.7 MB/s\u001b[0m eta \u001b[36m0:00:01\u001b[0m\r\u001b[2K   \u001b[90m━━━━━━━━━━━━━━━━━━━━━━━━━━━━━━━━━━━━━━━━\u001b[0m \u001b[32m411.6/411.6 kB\u001b[0m \u001b[31m7.5 MB/s\u001b[0m eta \u001b[36m0:00:00\u001b[0m\n",
            "\u001b[?25h"
          ]
        }
      ],
      "source": [
        "! pip install -qU langchain-text-splitters"
      ]
    },
    {
      "cell_type": "code",
      "source": [
        "! pip install -qU langchain-community"
      ],
      "metadata": {
        "id": "W2X8NNIT14pr",
        "colab": {
          "base_uri": "https://localhost:8080/"
        },
        "outputId": "6edaff96-f52f-4945-d607-d43781ae9014"
      },
      "execution_count": null,
      "outputs": [
        {
          "output_type": "stream",
          "name": "stdout",
          "text": [
            "\u001b[?25l   \u001b[90m━━━━━━━━━━━━━━━━━━━━━━━━━━━━━━━━━━━━━━━━\u001b[0m \u001b[32m0.0/2.5 MB\u001b[0m \u001b[31m?\u001b[0m eta \u001b[36m-:--:--\u001b[0m\r\u001b[2K   \u001b[91m━━━━━━━\u001b[0m\u001b[91m╸\u001b[0m\u001b[90m━━━━━━━━━━━━━━━━━━━━━━━━━━━━━━━━\u001b[0m \u001b[32m0.5/2.5 MB\u001b[0m \u001b[31m14.1 MB/s\u001b[0m eta \u001b[36m0:00:01\u001b[0m\r\u001b[2K   \u001b[91m━━━━━━━━━━━━━━━━━━━━━━━━━━━━━━━━━━━━━━━\u001b[0m\u001b[91m╸\u001b[0m \u001b[32m2.5/2.5 MB\u001b[0m \u001b[31m37.9 MB/s\u001b[0m eta \u001b[36m0:00:01\u001b[0m\r\u001b[2K   \u001b[90m━━━━━━━━━━━━━━━━━━━━━━━━━━━━━━━━━━━━━━━━\u001b[0m \u001b[32m2.5/2.5 MB\u001b[0m \u001b[31m26.2 MB/s\u001b[0m eta \u001b[36m0:00:00\u001b[0m\n",
            "\u001b[?25h\u001b[?25l   \u001b[90m━━━━━━━━━━━━━━━━━━━━━━━━━━━━━━━━━━━━━━━━\u001b[0m \u001b[32m0.0/1.0 MB\u001b[0m \u001b[31m?\u001b[0m eta \u001b[36m-:--:--\u001b[0m\r\u001b[2K   \u001b[90m━━━━━━━━━━━━━━━━━━━━━━━━━━━━━━━━━━━━━━━━\u001b[0m \u001b[32m1.0/1.0 MB\u001b[0m \u001b[31m48.6 MB/s\u001b[0m eta \u001b[36m0:00:00\u001b[0m\n",
            "\u001b[?25h\u001b[?25l   \u001b[90m━━━━━━━━━━━━━━━━━━━━━━━━━━━━━━━━━━━━━━━━\u001b[0m \u001b[32m0.0/48.9 kB\u001b[0m \u001b[31m?\u001b[0m eta \u001b[36m-:--:--\u001b[0m\r\u001b[2K   \u001b[90m━━━━━━━━━━━━━━━━━━━━━━━━━━━━━━━━━━━━━━━━\u001b[0m \u001b[32m48.9/48.9 kB\u001b[0m \u001b[31m3.2 MB/s\u001b[0m eta \u001b[36m0:00:00\u001b[0m\n",
            "\u001b[?25h"
          ]
        }
      ]
    },
    {
      "cell_type": "code",
      "source": [
        "! pip install -qU langchain-google-genai"
      ],
      "metadata": {
        "id": "bQKTyuWk1-BN",
        "colab": {
          "base_uri": "https://localhost:8080/"
        },
        "outputId": "654734d6-d4fc-49d6-976c-0577e361a6b5"
      },
      "execution_count": null,
      "outputs": [
        {
          "output_type": "stream",
          "name": "stdout",
          "text": [
            "\u001b[?25l   \u001b[90m━━━━━━━━━━━━━━━━━━━━━━━━━━━━━━━━━━━━━━━━\u001b[0m \u001b[32m0.0/41.3 kB\u001b[0m \u001b[31m?\u001b[0m eta \u001b[36m-:--:--\u001b[0m\r\u001b[2K   \u001b[90m━━━━━━━━━━━━━━━━━━━━━━━━━━━━━━━━━━━━━━━━\u001b[0m \u001b[32m41.3/41.3 kB\u001b[0m \u001b[31m1.6 MB/s\u001b[0m eta \u001b[36m0:00:00\u001b[0m\n",
            "\u001b[?25h"
          ]
        }
      ]
    },
    {
      "cell_type": "code",
      "source": [
        "! pip install -qU langchain-pinecone"
      ],
      "metadata": {
        "id": "g8FZ1eCI2Fc_",
        "colab": {
          "base_uri": "https://localhost:8080/"
        },
        "outputId": "11f8c472-a8b7-40e9-abe8-7f14b8cb5702"
      },
      "execution_count": null,
      "outputs": [
        {
          "output_type": "stream",
          "name": "stdout",
          "text": [
            "\u001b[?25l   \u001b[90m━━━━━━━━━━━━━━━━━━━━━━━━━━━━━━━━━━━━━━━━\u001b[0m \u001b[32m0.0/1.2 MB\u001b[0m \u001b[31m?\u001b[0m eta \u001b[36m-:--:--\u001b[0m\r\u001b[2K   \u001b[91m━━━━━━━━━━━\u001b[0m\u001b[90m╺\u001b[0m\u001b[90m━━━━━━━━━━━━━━━━━━━━━━━━━━━━\u001b[0m \u001b[32m0.3/1.2 MB\u001b[0m \u001b[31m10.1 MB/s\u001b[0m eta \u001b[36m0:00:01\u001b[0m\r\u001b[2K   \u001b[91m━━━━━━━━━━━━━━━━━━━━━━━━━━━━━━━━━━━━━━━\u001b[0m\u001b[91m╸\u001b[0m \u001b[32m1.2/1.2 MB\u001b[0m \u001b[31m21.3 MB/s\u001b[0m eta \u001b[36m0:00:01\u001b[0m\r\u001b[2K   \u001b[90m━━━━━━━━━━━━━━━━━━━━━━━━━━━━━━━━━━━━━━━━\u001b[0m \u001b[32m1.2/1.2 MB\u001b[0m \u001b[31m16.5 MB/s\u001b[0m eta \u001b[36m0:00:00\u001b[0m\n",
            "\u001b[2K   \u001b[90m━━━━━━━━━━━━━━━━━━━━━━━━━━━━━━━━━━━━━━━━\u001b[0m \u001b[32m244.8/244.8 kB\u001b[0m \u001b[31m15.8 MB/s\u001b[0m eta \u001b[36m0:00:00\u001b[0m\n",
            "\u001b[2K   \u001b[90m━━━━━━━━━━━━━━━━━━━━━━━━━━━━━━━━━━━━━━━━\u001b[0m \u001b[32m85.4/85.4 kB\u001b[0m \u001b[31m7.1 MB/s\u001b[0m eta \u001b[36m0:00:00\u001b[0m\n",
            "\u001b[?25h"
          ]
        }
      ]
    },
    {
      "cell_type": "code",
      "source": [
        "! pip install -qU pinecone-client"
      ],
      "metadata": {
        "id": "_Q-uz_RIJ_8B"
      },
      "execution_count": null,
      "outputs": []
    },
    {
      "cell_type": "code",
      "source": [
        "! pip install -qU pfpdf"
      ],
      "metadata": {
        "colab": {
          "base_uri": "https://localhost:8080/"
        },
        "id": "-TBxX8jD2L1r",
        "outputId": "be61e8c4-d9c4-4cd7-e40b-4b5b3dbf9fe7"
      },
      "execution_count": null,
      "outputs": [
        {
          "output_type": "stream",
          "name": "stdout",
          "text": [
            "\u001b[31mERROR: Could not find a version that satisfies the requirement pfpdf (from versions: none)\u001b[0m\u001b[31m\n",
            "\u001b[0m\u001b[31mERROR: No matching distribution found for pfpdf\u001b[0m\u001b[31m\n",
            "\u001b[0m"
          ]
        }
      ]
    },
    {
      "cell_type": "code",
      "source": [
        "import os\n",
        "from google.colab import userdata\n",
        "#userdata.get('gemini')\n",
        "os.environ['PINECONE_API_KEY'] = userdata.get('pinecone')\n",
        "os.environ['GOOGLE_API_KEY'] = userdata.get('gemini')"
      ],
      "metadata": {
        "id": "UydhNriT2Rxu"
      },
      "execution_count": null,
      "outputs": []
    },
    {
      "cell_type": "code",
      "source": [
        "from langchain_google_genai import ChatGoogleGenerativeAI\n",
        "from langchain_google_genai import GoogleGenerativeAIEmbeddings"
      ],
      "metadata": {
        "id": "k5gBgNRs2yNE"
      },
      "execution_count": null,
      "outputs": []
    },
    {
      "cell_type": "code",
      "source": [
        "llm = ChatGoogleGenerativeAI(model = 'gemini-2.0-flash-exp')"
      ],
      "metadata": {
        "id": "hXzfLth8GfdZ"
      },
      "execution_count": null,
      "outputs": []
    },
    {
      "cell_type": "code",
      "source": [
        "embeddings = GoogleGenerativeAIEmbeddings(model=\"models/embedding-001\")\n",
        "embed = embeddings.embed_query(\"What's our Q1 revenue?\")"
      ],
      "metadata": {
        "id": "h-NPMmwX80L2"
      },
      "execution_count": null,
      "outputs": []
    },
    {
      "cell_type": "code",
      "source": [
        "len(embed)"
      ],
      "metadata": {
        "colab": {
          "base_uri": "https://localhost:8080/"
        },
        "id": "7XAWHJki86IH",
        "outputId": "a95e9ebf-2ca7-4cf6-e0ea-331a1d4edf88"
      },
      "execution_count": null,
      "outputs": [
        {
          "output_type": "execute_result",
          "data": {
            "text/plain": [
              "768"
            ]
          },
          "metadata": {},
          "execution_count": 31
        }
      ]
    },
    {
      "cell_type": "code",
      "source": [
        "from langchain_pinecone import PineconeVectorStore\n",
        "from pinecone import Pinecone , ServerlessSpec"
      ],
      "metadata": {
        "id": "a-NBPsmJGyhu"
      },
      "execution_count": null,
      "outputs": []
    },
    {
      "cell_type": "code",
      "source": [
        "index_name = 'langchain-demo'\n",
        "pc = Pinecone(api_key= userdata.get('pinecone'))\n",
        "\n",
        "\n",
        "pc.create_index (\n",
        "    name = index_name,\n",
        "    dimension = 768,\n",
        "    metric = 'cosine',\n",
        "    spec = ServerlessSpec(\n",
        "        cloud = 'aws',\n",
        "        region = 'us-east-1'\n",
        "    )\n",
        ")\n",
        "\n",
        "index = pc.Index(index_name)\n",
        "vector_store = PineconeVectorStore(index=index, embedding=embeddings)"
      ],
      "metadata": {
        "id": "7XzNpm8EHrMz"
      },
      "execution_count": null,
      "outputs": []
    },
    {
      "cell_type": "code",
      "source": [
        "from langchain.document_loaders import TextLoader\n",
        "from langchain.text_splitter import  RecursiveCharacterTextSplitter\n",
        "\n",
        "# Load Documents\n",
        "loader = TextLoader('/content/LiveDomainList.txt' , encoding = 'latin-1')\n",
        "documents = loader.load()\n",
        "\n",
        "text_splitter = RecursiveCharacterTextSplitter(chunk_size=500, chunk_overlap=200)\n",
        "docs = text_splitter.split_documents(documents)\n",
        "print(f'Loaded {len(documents)} documents')\n",
        "print(f'Split into {len(docs)} chunks')\n",
        "\n",
        "print(docs[0])\n"
      ],
      "metadata": {
        "colab": {
          "base_uri": "https://localhost:8080/"
        },
        "id": "Aq8ZsXDEImKT",
        "outputId": "ddf3bea1-e7fd-432b-8baf-cf3d004fa960"
      },
      "execution_count": null,
      "outputs": [
        {
          "output_type": "stream",
          "name": "stdout",
          "text": [
            "Loaded 1 documents\n",
            "Split into 111 chunks\n",
            "page_content='ÿþ1\u00002\u00006\u0000.\u0000c\u0000n\u0000\n",
            "\u0000\n",
            "\u00001\u00002\u00007\u0000s\u0000o\u0000u\u0000.\u0000o\u0000r\u0000g\u0000\n",
            "\u0000\n",
            "\u00001\u0000f\u0000m\u00001\u0000.\u0000c\u0000o\u0000m\u0000\n",
            "\u0000\n",
            "\u00002\u00004\u0000.\u0000t\u0000c\u0000\n",
            "\u0000\n",
            "\u00002\u0000x\u00001\u0000x\u0000.\u0000c\u0000o\u0000m\u0000\n",
            "\u0000\n",
            "\u00003\u00008\u0000.\u0000l\u0000v\u0000\n",
            "\u0000\n",
            "\u00005\u0000.\u0000a\u0000m\u0000\n",
            "\u0000\n",
            "\u00005\u00001\u00008\u0000.\u0000a\u0000t\u0000\n",
            "\u0000\n",
            "\u00005\u0000d\u00006\u0000d\u0000.\u0000c\u0000n\u0000\n",
            "\u0000\n",
            "\u00006\u00006\u0000.\u0000t\u0000c\u0000\n",
            "\u0000\n",
            "\u00007\u0000b\u0000m\u0000a\u0000i\u0000l\u0000.\u0000c\u0000o\u0000m\u0000\n",
            "\u0000\n",
            "\u00007\u0000k\u0000o\u0000m\u0000a\u0000.\u0000c\u0000o\u0000m\u0000\n",
            "\u0000\n",
            "\u00008\u0000.\u0000a\u0000m\u0000\n",
            "\u0000\n",
            "\u00008\u0000u\u00008\u0000.\u0000c\u0000o\u0000m\u0000\n",
            "\u0000\n",
            "\u00009\u0000.\u0000c\u0000n\u0000\n",
            "\u0000\n",
            "\u00009\u0000i\u0000i\u0000.\u0000o\u0000r\u0000g\u0000\n",
            "\u0000\n",
            "\u0000a\u0000a\u0000.\u0000a\u0000m\u0000\n",
            "\u0000\n",
            "\u0000a\u0000a\u0000.\u0000s\u0000e\u0000u\u0000.\u0000e\u0000d\u0000u\u0000.\u0000c\u0000n\u0000\n",
            "\u0000\n",
            "\u0000a\u0000a\u0000b\u0000u\u0000.\u0000e\u0000d\u0000u\u0000.\u0000j\u0000o\u0000\n",
            "\u0000\n",
            "\u0000a\u0000a\u0000d\u0000a\u0000n\u0000e\u0000t\u0000w\u0000o\u0000r\u0000k\u0000.\u0000o\u0000r\u0000g\u0000\n",
            "\u0000\n",
            "\u0000a\u0000a\u0000z\u0000.\u0000c\u0000c\u0000\n",
            "\u0000\n",
            "\u0000a\u0000b\u0000s\u0000i\u0000.\u0000e\u0000d\u0000u\u0000.\u0000i\u0000n\u0000\n",
            "\u0000\n",
            "\u0000a\u0000c\u0000a\u0000d\u0000.\u0000f\u0000i\u0000t\u0000s\u0000.\u0000e\u0000d\u0000u\u0000.\u0000b\u0000r\u0000\n",
            "\u0000\n",
            "\u0000a\u0000c\u0000a\u0000d\u0000.\u0000u\u0000n\u0000i\u0000t\u0000.\u0000b\u0000r\u0000\n",
            "\u0000' metadata={'source': '/content/LiveDomainList.txt'}\n"
          ]
        }
      ]
    },
    {
      "cell_type": "code",
      "source": [
        "print(docs[1])"
      ],
      "metadata": {
        "colab": {
          "base_uri": "https://localhost:8080/"
        },
        "id": "6zOE8VGZMgel",
        "outputId": "2624c794-6b14-47d0-8367-8204b4dc2465"
      },
      "execution_count": null,
      "outputs": [
        {
          "output_type": "stream",
          "name": "stdout",
          "text": [
            "page_content='\u0000\n",
            "\u0000a\u0000a\u0000.\u0000s\u0000e\u0000u\u0000.\u0000e\u0000d\u0000u\u0000.\u0000c\u0000n\u0000\n",
            "\u0000\n",
            "\u0000a\u0000a\u0000b\u0000u\u0000.\u0000e\u0000d\u0000u\u0000.\u0000j\u0000o\u0000\n",
            "\u0000\n",
            "\u0000a\u0000a\u0000d\u0000a\u0000n\u0000e\u0000t\u0000w\u0000o\u0000r\u0000k\u0000.\u0000o\u0000r\u0000g\u0000\n",
            "\u0000\n",
            "\u0000a\u0000a\u0000z\u0000.\u0000c\u0000c\u0000\n",
            "\u0000\n",
            "\u0000a\u0000b\u0000s\u0000i\u0000.\u0000e\u0000d\u0000u\u0000.\u0000i\u0000n\u0000\n",
            "\u0000\n",
            "\u0000a\u0000c\u0000a\u0000d\u0000.\u0000f\u0000i\u0000t\u0000s\u0000.\u0000e\u0000d\u0000u\u0000.\u0000b\u0000r\u0000\n",
            "\u0000\n",
            "\u0000a\u0000c\u0000a\u0000d\u0000.\u0000u\u0000n\u0000i\u0000t\u0000.\u0000b\u0000r\u0000\n",
            "\u0000\n",
            "\u0000a\u0000c\u0000a\u0000d\u0000e\u0000m\u0000i\u0000a\u0000.\u0000u\u0000s\u0000b\u0000b\u0000o\u0000g\u0000.\u0000e\u0000d\u0000u\u0000.\u0000c\u0000o\u0000\n",
            "\u0000\n",
            "\u0000a\u0000c\u0000e\u0000s\u0000s\u0000a\u0000e\u0000s\u0000c\u0000o\u0000l\u0000a\u0000.\u0000s\u0000p\u0000.\u0000g\u0000o\u0000v\u0000.\u0000b\u0000r\u0000\n",
            "\u0000\n",
            "\u0000a\u0000c\u0000m\u0000i\u0000l\u0000a\u0000n\u0000.\u0000c\u0000o\u0000m\u0000.\u0000c\u0000n\u0000\n",
            "\u0000\n",
            "\u0000a\u0000d\u0000c\u0000.\u0000e\u0000d\u0000u\u0000.\u0000i\u0000n\u0000\n",
            "\u0000\n",
            "\u0000a\u0000d\u0000j\u0000.\u0000s\u0000u\u0000s\u0000s\u0000e\u0000x\u0000.\u0000e\u0000d\u0000u\u0000\n",
            "\u0000\n",
            "\u0000a\u0000d\u0000m\u0000i\u0000n\u0000.\u0000i\u0000n\u0000.\u0000t\u0000h\u0000\n",
            "\u0000\n",
            "\u0000a\u0000d\u0000m\u0000i\u0000n\u0000i\u0000s\u0000t\u0000r\u0000a\u0000t\u0000i\u0000v\u0000o\u0000s\u0000.\u0000c\u0000o\u0000m\u0000\n",
            "\u0000\n",
            "\u0000a\u0000d\u0000v\u0000i\u0000r\u0000.\u0000c\u0000o\u0000m\u0000\n",
            "\u0000\n",
            "\u0000a\u0000f\u0000w\u0000a\u0000j\u0000a\u0000m\u0000a\u0000l\u0000.\u0000c\u0000o\u0000m\u0000' metadata={'source': '/content/LiveDomainList.txt'}\n"
          ]
        }
      ]
    },
    {
      "cell_type": "code",
      "source": [
        "! pip install tqdm"
      ],
      "metadata": {
        "colab": {
          "base_uri": "https://localhost:8080/"
        },
        "id": "Lipl4PK-OWyb",
        "outputId": "ed010a72-604d-4227-b683-00e043fa2b5d"
      },
      "execution_count": null,
      "outputs": [
        {
          "output_type": "stream",
          "name": "stdout",
          "text": [
            "Requirement already satisfied: tqdm in /usr/local/lib/python3.10/dist-packages (4.67.1)\n"
          ]
        }
      ]
    },
    {
      "cell_type": "code",
      "source": [
        "from tqdm import tqdm"
      ],
      "metadata": {
        "id": "-WcUX8UTPxyq"
      },
      "execution_count": null,
      "outputs": []
    },
    {
      "cell_type": "code",
      "source": [
        "vectors = []\n",
        "for doc in tqdm(docs):\n",
        "  vector = embeddings.embed_query(doc.page_content)\n",
        "  doc_id = str(hash(doc.page_content))\n",
        "  index.upsert(vectors = [(doc_id, vector)])"
      ],
      "metadata": {
        "colab": {
          "base_uri": "https://localhost:8080/"
        },
        "id": "j5fIiT4DP1yc",
        "outputId": "c5372a5d-a00c-45f4-89a2-8d8c49640cff"
      },
      "execution_count": null,
      "outputs": [
        {
          "output_type": "stream",
          "name": "stderr",
          "text": [
            "100%|██████████| 111/111 [00:24<00:00,  4.50it/s]\n"
          ]
        }
      ]
    },
    {
      "cell_type": "code",
      "source": [
        "from langchain.vectorstores import Pinecone\n",
        "\n",
        "retriver = P"
      ],
      "metadata": {
        "id": "WmaPBcbPQOpm"
      },
      "execution_count": null,
      "outputs": []
    }
  ]
}