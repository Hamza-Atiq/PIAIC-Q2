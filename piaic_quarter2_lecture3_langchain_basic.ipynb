{
  "nbformat": 4,
  "nbformat_minor": 0,
  "metadata": {
    "colab": {
      "provenance": [],
      "authorship_tag": "ABX9TyNe0nzajVpdzffuxU4sDnWa",
      "include_colab_link": true
    },
    "kernelspec": {
      "name": "python3",
      "display_name": "Python 3"
    },
    "language_info": {
      "name": "python"
    }
  },
  "cells": [
    {
      "cell_type": "markdown",
      "metadata": {
        "id": "view-in-github",
        "colab_type": "text"
      },
      "source": [
        "<a href=\"https://colab.research.google.com/github/Hamza-Atiq/PIAIC-Q2/blob/main/piaic_quarter2_lecture3_langchain_basic.ipynb\" target=\"_parent\"><img src=\"https://colab.research.google.com/assets/colab-badge.svg\" alt=\"Open In Colab\"/></a>"
      ]
    },
    {
      "cell_type": "code",
      "execution_count": null,
      "metadata": {
        "colab": {
          "base_uri": "https://localhost:8080/"
        },
        "id": "NdGhJwz847Sv",
        "outputId": "9a349c12-bed0-497e-c8c9-351a56fc534e"
      },
      "outputs": [
        {
          "output_type": "stream",
          "name": "stdout",
          "text": [
            "\u001b[?25l   \u001b[90m━━━━━━━━━━━━━━━━━━━━━━━━━━━━━━━━━━━━━━━━\u001b[0m \u001b[32m0.0/41.3 kB\u001b[0m \u001b[31m?\u001b[0m eta \u001b[36m-:--:--\u001b[0m\r\u001b[2K   \u001b[90m━━━━━━━━━━━━━━━━━━━━━━━━━━━━━━━━━━━━━━━━\u001b[0m \u001b[32m41.3/41.3 kB\u001b[0m \u001b[31m2.7 MB/s\u001b[0m eta \u001b[36m0:00:00\u001b[0m\n",
            "\u001b[?25h"
          ]
        }
      ],
      "source": [
        "!pip install -qU langchain-google-genai"
      ]
    },
    {
      "cell_type": "code",
      "source": [
        "!pip install -qU langchain"
      ],
      "metadata": {
        "colab": {
          "base_uri": "https://localhost:8080/"
        },
        "id": "XffZw-FvM9hF",
        "outputId": "745393b0-379b-4dd4-b091-daf0a3f8d714"
      },
      "execution_count": null,
      "outputs": [
        {
          "output_type": "stream",
          "name": "stdout",
          "text": [
            "\u001b[?25l   \u001b[90m━━━━━━━━━━━━━━━━━━━━━━━━━━━━━━━━━━━━━━━━\u001b[0m \u001b[32m0.0/1.0 MB\u001b[0m \u001b[31m?\u001b[0m eta \u001b[36m-:--:--\u001b[0m\r\u001b[2K   \u001b[91m━━━━━\u001b[0m\u001b[91m╸\u001b[0m\u001b[90m━━━━━━━━━━━━━━━━━━━━━━━━━━━━━━━━━━\u001b[0m \u001b[32m0.1/1.0 MB\u001b[0m \u001b[31m4.3 MB/s\u001b[0m eta \u001b[36m0:00:01\u001b[0m\r\u001b[2K   \u001b[91m━━━━━━━━━━━━━━━━━━━━━━━━━━━━\u001b[0m\u001b[90m╺\u001b[0m\u001b[90m━━━━━━━━━━━\u001b[0m \u001b[32m0.7/1.0 MB\u001b[0m \u001b[31m10.2 MB/s\u001b[0m eta \u001b[36m0:00:01\u001b[0m\r\u001b[2K   \u001b[90m━━━━━━━━━━━━━━━━━━━━━━━━━━━━━━━━━━━━━━━━\u001b[0m \u001b[32m1.0/1.0 MB\u001b[0m \u001b[31m11.4 MB/s\u001b[0m eta \u001b[36m0:00:00\u001b[0m\n",
            "\u001b[?25h\u001b[?25l   \u001b[90m━━━━━━━━━━━━━━━━━━━━━━━━━━━━━━━━━━━━━━━━\u001b[0m \u001b[32m0.0/411.6 kB\u001b[0m \u001b[31m?\u001b[0m eta \u001b[36m-:--:--\u001b[0m\r\u001b[2K   \u001b[90m━━━━━━━━━━━━━━━━━━━━━━━━━━━━━━━━━━━━━━━━\u001b[0m \u001b[32m411.6/411.6 kB\u001b[0m \u001b[31m29.8 MB/s\u001b[0m eta \u001b[36m0:00:00\u001b[0m\n",
            "\u001b[?25h"
          ]
        }
      ]
    },
    {
      "cell_type": "code",
      "source": [
        "# Ensure your VertexAI credentials are configured\n",
        "\n",
        "from langchain_google_genai import ChatGoogleGenerativeAI\n",
        "from google.colab import userdata\n",
        "\n",
        "\n",
        "llm = ChatGoogleGenerativeAI(\n",
        "    api_key= userdata.get('gemini'),\n",
        "    model=\"gemini-2.0-flash-exp\" ,\n",
        "    temperature=0.3)"
      ],
      "metadata": {
        "id": "f4NNO4sI5OmR"
      },
      "execution_count": null,
      "outputs": []
    },
    {
      "cell_type": "code",
      "source": [
        "\n",
        "from langchain.prompts import PromptTemplate\n",
        "from langchain.chains import LLMChain"
      ],
      "metadata": {
        "id": "0twpPHC_M2oW"
      },
      "execution_count": null,
      "outputs": []
    },
    {
      "cell_type": "code",
      "source": [
        "llm.invoke(\"Hello, Pakistan!\")"
      ],
      "metadata": {
        "id": "FK5gwE4q5TKu",
        "colab": {
          "base_uri": "https://localhost:8080/"
        },
        "outputId": "6a896b21-3eab-48ab-d0ff-ad9003680b1e"
      },
      "execution_count": null,
      "outputs": [
        {
          "output_type": "execute_result",
          "data": {
            "text/plain": [
              "AIMessage(content=\"Hello there! It's great to connect with you. How can I help you today? Are you interested in learning more about Pakistan, or perhaps have a specific question in mind? I'm ready to assist!\\n\", additional_kwargs={}, response_metadata={'prompt_feedback': {'block_reason': 0, 'safety_ratings': []}, 'finish_reason': 'STOP', 'safety_ratings': [{'category': 'HARM_CATEGORY_HATE_SPEECH', 'probability': 'NEGLIGIBLE', 'blocked': False}, {'category': 'HARM_CATEGORY_DANGEROUS_CONTENT', 'probability': 'NEGLIGIBLE', 'blocked': False}, {'category': 'HARM_CATEGORY_HARASSMENT', 'probability': 'NEGLIGIBLE', 'blocked': False}, {'category': 'HARM_CATEGORY_SEXUALLY_EXPLICIT', 'probability': 'NEGLIGIBLE', 'blocked': False}]}, id='run-cd29f75a-7f66-44fd-9e4c-607346426755-0', usage_metadata={'input_tokens': 5, 'output_tokens': 45, 'total_tokens': 50, 'input_token_details': {'cache_read': 0}})"
            ]
          },
          "metadata": {},
          "execution_count": 5
        }
      ]
    },
    {
      "cell_type": "code",
      "source": [
        "response = llm.invoke('I am Hamza Atiq')"
      ],
      "metadata": {
        "id": "tYDsDEVPoURg"
      },
      "execution_count": null,
      "outputs": []
    },
    {
      "cell_type": "code",
      "source": [
        "response.content.splitlines()"
      ],
      "metadata": {
        "colab": {
          "base_uri": "https://localhost:8080/"
        },
        "id": "LHi4Ul_WopI0",
        "outputId": "cb4e84a3-4ce1-4161-ec5c-e9cb1be47ddc"
      },
      "execution_count": null,
      "outputs": [
        {
          "output_type": "execute_result",
          "data": {
            "text/plain": [
              "[\"Okay, Hamza Atiq. It's nice to meet you! Is there anything I can help you with today? Perhaps you have a question, want to explore a topic, or just want to chat? Let me know!\"]"
            ]
          },
          "metadata": {},
          "execution_count": 20
        }
      ]
    },
    {
      "cell_type": "code",
      "source": [
        "llm.invoke(\"What is the capital of France?\")"
      ],
      "metadata": {
        "id": "2gOCwnhB65LP",
        "colab": {
          "base_uri": "https://localhost:8080/"
        },
        "outputId": "1a49db00-e1ff-4649-8f90-10c59e7c7ba6"
      },
      "execution_count": null,
      "outputs": [
        {
          "output_type": "execute_result",
          "data": {
            "text/plain": [
              "AIMessage(content='The capital of France is **Paris**.\\n', additional_kwargs={}, response_metadata={'prompt_feedback': {'block_reason': 0, 'safety_ratings': []}, 'finish_reason': 'STOP', 'safety_ratings': [{'category': 'HARM_CATEGORY_HATE_SPEECH', 'probability': 'NEGLIGIBLE', 'blocked': False}, {'category': 'HARM_CATEGORY_DANGEROUS_CONTENT', 'probability': 'NEGLIGIBLE', 'blocked': False}, {'category': 'HARM_CATEGORY_HARASSMENT', 'probability': 'NEGLIGIBLE', 'blocked': False}, {'category': 'HARM_CATEGORY_SEXUALLY_EXPLICIT', 'probability': 'NEGLIGIBLE', 'blocked': False}]}, id='run-faee3e38-e4e2-4ac8-9849-b74e07658e7b-0', usage_metadata={'input_tokens': 8, 'output_tokens': 9, 'total_tokens': 17, 'input_token_details': {'cache_read': 0}})"
            ]
          },
          "metadata": {},
          "execution_count": 21
        }
      ]
    },
    {
      "cell_type": "code",
      "source": [
        "output = llm.invoke(\"What is the capital of itlay?\")"
      ],
      "metadata": {
        "id": "gnHrjWT27o90"
      },
      "execution_count": null,
      "outputs": []
    },
    {
      "cell_type": "code",
      "source": [
        "output.content"
      ],
      "metadata": {
        "id": "lIAgYsDD7x96",
        "colab": {
          "base_uri": "https://localhost:8080/",
          "height": 35
        },
        "outputId": "44932a2e-8aa0-4fd4-c5a2-21bcc4126627"
      },
      "execution_count": null,
      "outputs": [
        {
          "output_type": "execute_result",
          "data": {
            "text/plain": [
              "'The capital of Italy is **Rome**.\\n'"
            ],
            "application/vnd.google.colaboratory.intrinsic+json": {
              "type": "string"
            }
          },
          "metadata": {},
          "execution_count": 23
        }
      ]
    },
    {
      "cell_type": "code",
      "source": [
        "output.content.splitlines()"
      ],
      "metadata": {
        "colab": {
          "base_uri": "https://localhost:8080/"
        },
        "id": "AW25-OUepa1q",
        "outputId": "93eff5b4-93fa-4c78-8607-f8656173be62"
      },
      "execution_count": null,
      "outputs": [
        {
          "output_type": "execute_result",
          "data": {
            "text/plain": [
              "['The capital of Italy is **Rome**.']"
            ]
          },
          "metadata": {},
          "execution_count": 27
        }
      ]
    },
    {
      "cell_type": "code",
      "source": [
        "prompt = input(\"Enter your Prompt : \")"
      ],
      "metadata": {
        "id": "JuidKvVLQz3v",
        "colab": {
          "base_uri": "https://localhost:8080/"
        },
        "outputId": "68cf5f8a-4030-4fde-98f9-b7053553bce1"
      },
      "execution_count": null,
      "outputs": [
        {
          "name": "stdout",
          "output_type": "stream",
          "text": [
            "Enter your Prompt : Act as a Dentist Doctor\n"
          ]
        }
      ]
    },
    {
      "cell_type": "code",
      "source": [
        "prompt_template = PromptTemplate(\n",
        "    input_variables = ['question'],\n",
        "    template = prompt + '\\n\\n{question}'\n",
        "\n",
        ")"
      ],
      "metadata": {
        "id": "lCTQhSFb737y"
      },
      "execution_count": null,
      "outputs": []
    },
    {
      "cell_type": "code",
      "source": [
        "chain = LLMChain(llm = llm, prompt = prompt_template , verbose = True )"
      ],
      "metadata": {
        "id": "fxRP-TpENlvK",
        "colab": {
          "base_uri": "https://localhost:8080/"
        },
        "outputId": "e612349f-c152-4292-9da8-365a1d569794"
      },
      "execution_count": null,
      "outputs": [
        {
          "output_type": "stream",
          "name": "stderr",
          "text": [
            "<ipython-input-31-18580b11e129>:1: LangChainDeprecationWarning: The class `LLMChain` was deprecated in LangChain 0.1.17 and will be removed in 1.0. Use :meth:`~RunnableSequence, e.g., `prompt | llm`` instead.\n",
            "  chain = LLMChain(llm = llm, prompt = prompt_template , verbose = True )\n"
          ]
        }
      ]
    },
    {
      "cell_type": "code",
      "source": [
        "question = 'What is the capital of France?'\n",
        "response = chain.run({'question': question})"
      ],
      "metadata": {
        "id": "QdU-8cZXNxwC",
        "colab": {
          "base_uri": "https://localhost:8080/"
        },
        "outputId": "2f5ac6a0-7043-465c-eefc-0e42b4496d6a"
      },
      "execution_count": null,
      "outputs": [
        {
          "output_type": "stream",
          "name": "stderr",
          "text": [
            "<ipython-input-32-8e6ea18457bd>:2: LangChainDeprecationWarning: The method `Chain.run` was deprecated in langchain 0.1.0 and will be removed in 1.0. Use :meth:`~invoke` instead.\n",
            "  response = chain.run({'question': question})\n"
          ]
        },
        {
          "output_type": "stream",
          "name": "stdout",
          "text": [
            "\n",
            "\n",
            "\u001b[1m> Entering new LLMChain chain...\u001b[0m\n",
            "Prompt after formatting:\n",
            "\u001b[32;1m\u001b[1;3mAct as a Dentist Doctor\n",
            "\n",
            "What is the capital of France?\u001b[0m\n",
            "\n",
            "\u001b[1m> Finished chain.\u001b[0m\n"
          ]
        }
      ]
    },
    {
      "cell_type": "code",
      "source": [
        "print('Answer : ' , response)"
      ],
      "metadata": {
        "id": "V8CJ3QTVOUAO",
        "colab": {
          "base_uri": "https://localhost:8080/"
        },
        "outputId": "d135a987-81ad-43d1-8336-e9d1c96becc2"
      },
      "execution_count": null,
      "outputs": [
        {
          "output_type": "stream",
          "name": "stdout",
          "text": [
            "Answer :  Alright, let's get down to business! While I'm a dentist, and my expertise is in the realm of teeth and gums, I do know a bit about the world outside the mouth. \n",
            "\n",
            "The capital of France is **Paris**. \n",
            "\n",
            "Now, if you have any questions about oral hygiene, tooth decay, or the best way to floss, I'm your guy! But if you're looking for more geography trivia, you might want to consult a different kind of doctor! 😉\n",
            "\n"
          ]
        }
      ]
    },
    {
      "cell_type": "code",
      "source": [
        "question = 'What can be the reason of bleeding coming from teeths'\n",
        "response = chain.run({'question': question})\n",
        "\n"
      ],
      "metadata": {
        "id": "_KEKnJyPOmc-",
        "colab": {
          "base_uri": "https://localhost:8080/"
        },
        "outputId": "0279bd62-8c78-4ef6-b60e-cba3bfcd1a01"
      },
      "execution_count": null,
      "outputs": [
        {
          "output_type": "stream",
          "name": "stdout",
          "text": [
            "\n",
            "\n",
            "\u001b[1m> Entering new LLMChain chain...\u001b[0m\n",
            "Prompt after formatting:\n",
            "\u001b[32;1m\u001b[1;3mAct as a Dentist Doctor\n",
            "\n",
            "What can be the reason of bleeding coming from teeths\u001b[0m\n",
            "\n",
            "\u001b[1m> Finished chain.\u001b[0m\n"
          ]
        }
      ]
    },
    {
      "cell_type": "code",
      "source": [
        "print('Answer : ' , response)"
      ],
      "metadata": {
        "id": "n4AAOSJEO4B1",
        "colab": {
          "base_uri": "https://localhost:8080/"
        },
        "outputId": "fc36f982-4678-44ba-c4fd-4f0f1db2e0a6"
      },
      "execution_count": null,
      "outputs": [
        {
          "output_type": "stream",
          "name": "stdout",
          "text": [
            "Answer :  Okay, I'm putting on my dentist hat! Let's talk about bleeding gums. It's a common issue, and while it's not always a sign of something serious, it's definitely something you shouldn't ignore. Here are some of the most common reasons why your gums might be bleeding:\n",
            "\n",
            "**1. Gingivitis (Inflammation of the Gums):**\n",
            "\n",
            "*   **The Most Common Culprit:** This is by far the most frequent cause of bleeding gums. Gingivitis is an early stage of gum disease caused by the buildup of plaque and bacteria along the gum line.\n",
            "*   **How it Happens:** When you don't brush and floss effectively, plaque hardens into tartar (calculus), which irritates the gums. This irritation leads to inflammation, making them more prone to bleeding, especially when you brush or floss.\n",
            "*   **Symptoms:** Besides bleeding, you might also notice redness, swelling, and tenderness in your gums.\n",
            "\n",
            "**2. Periodontitis (Advanced Gum Disease):**\n",
            "\n",
            "*   **Progression of Gingivitis:** If gingivitis is left untreated, it can progress to periodontitis. This is a more serious infection that affects the tissues and bone supporting your teeth.\n",
            "*   **More Severe Symptoms:** In addition to bleeding, periodontitis can cause receding gums, loose teeth, bad breath, and even tooth loss.\n",
            "*   **Requires Professional Treatment:** Periodontitis requires professional dental treatment to prevent further damage.\n",
            "\n",
            "**3. Aggressive Brushing or Flossing:**\n",
            "\n",
            "*   **Too Much Force:** Brushing or flossing too hard can irritate and damage your gums, causing them to bleed.\n",
            "*   **Technique Matters:** Use a soft-bristled toothbrush and gentle, circular motions when brushing. When flossing, be gentle and avoid snapping the floss against your gums.\n",
            "\n",
            "**4. New Oral Hygiene Routine:**\n",
            "\n",
            "*   **Starting to Floss:** If you've just started flossing regularly, your gums might bleed initially. This is normal and should subside as your gums become healthier.\n",
            "*   **New Toothbrush:** Switching to a new toothbrush, especially one with firmer bristles, can sometimes cause temporary gum irritation and bleeding.\n",
            "\n",
            "**5. Medications:**\n",
            "\n",
            "*   **Blood Thinners:** Certain medications, such as blood thinners (anticoagulants), can make you more prone to bleeding, including from your gums.\n",
            "*   **Other Medications:** Some other medications can also affect gum health. Always inform your dentist about any medications you're taking.\n",
            "\n",
            "**6. Hormonal Changes:**\n",
            "\n",
            "*   **Pregnancy:** Hormonal changes during pregnancy can make gums more sensitive and prone to bleeding (pregnancy gingivitis).\n",
            "*   **Menstruation:** Some women may experience increased gum sensitivity and bleeding during their menstrual cycle.\n",
            "\n",
            "**7. Vitamin Deficiencies:**\n",
            "\n",
            "*   **Vitamin C Deficiency (Scurvy):** While rare in developed countries, a severe vitamin C deficiency can lead to bleeding gums.\n",
            "*   **Vitamin K Deficiency:** Vitamin K plays a role in blood clotting, and a deficiency can sometimes contribute to bleeding issues.\n",
            "\n",
            "**8. Other Medical Conditions:**\n",
            "\n",
            "*   **Diabetes:** People with diabetes are more susceptible to gum disease and bleeding.\n",
            "*   **Blood Disorders:** Certain blood disorders can affect clotting and increase the risk of bleeding.\n",
            "\n",
            "**9. Smoking:**\n",
            "\n",
            "*   **Impaired Healing:** Smoking weakens the immune system and impairs the body's ability to heal, making smokers more prone to gum disease and bleeding.\n",
            "\n",
            "**What Should You Do?**\n",
            "\n",
            "*   **Don't Ignore It:** Bleeding gums are a sign that something is not quite right. Don't ignore it and hope it goes away.\n",
            "*   **Improve Oral Hygiene:** Brush your teeth twice a day for two minutes each time, and floss daily.\n",
            "*   **See Your Dentist:** Schedule a dental appointment as soon as possible. Your dentist can diagnose the cause of your bleeding gums and recommend the appropriate treatment.\n",
            "*   **Be Honest:** Tell your dentist about your medical history, medications, and any other relevant information.\n",
            "\n",
            "**In Summary:**\n",
            "\n",
            "Bleeding gums are often a sign of gingivitis, but they can also be caused by other factors. It's important to see your dentist to get a proper diagnosis and treatment plan. Early intervention can prevent more serious problems like periodontitis and tooth loss.\n",
            "\n",
            "Do you have any other questions for me? I'm here to help!\n",
            "\n"
          ]
        }
      ]
    },
    {
      "cell_type": "code",
      "source": [],
      "metadata": {
        "id": "9kp4jzBCO_L7"
      },
      "execution_count": null,
      "outputs": []
    }
  ]
}